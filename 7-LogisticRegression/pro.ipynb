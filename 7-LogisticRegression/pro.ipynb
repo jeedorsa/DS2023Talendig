{
 "cells": [
  {
   "cell_type": "code",
   "execution_count": 1,
   "metadata": {},
   "outputs": [],
   "source": [
    "import pandas as pd\n",
    "import pickle\n",
    "import numpy as np\n"
   ]
  },
  {
   "cell_type": "code",
   "execution_count": 4,
   "metadata": {},
   "outputs": [
    {
     "name": "stderr",
     "output_type": "stream",
     "text": [
      "/Users/vn55le3/Library/Python/3.9/lib/python/site-packages/sklearn/base.py:439: UserWarning: X does not have valid feature names, but StandardScaler was fitted with feature names\n",
      "  warnings.warn(\n"
     ]
    }
   ],
   "source": [
    "model=pickle.load(open(\"/Users/vn55le3/Downloads/DS2023Talendig/7-LogisticRegression/modelo1.sav\",'rb'))\n",
    "X=[]\n",
    "for i in range(4):\n",
    "    cad=\"Digite la caracteristica\"+str(i+1)\n",
    "    d=float(input(cad))\n",
    "    X.append(d)\n",
    "X=np.array(X)\n",
    "escalador=pickle.load(open(\"/Users/vn55le3/Downloads/DS2023Talendig/7-LogisticRegression/escalador.sav\",'rb'))\n",
    "X=escalador.transform(X.reshape(1,-1))\n",
    "pred=model.predict(X)\n",
    "print(\"La clase predicha es \"+str(pred))"
   ]
  }
 ],
 "metadata": {
  "kernelspec": {
   "display_name": "Python 3",
   "language": "python",
   "name": "python3"
  },
  "language_info": {
   "codemirror_mode": {
    "name": "ipython",
    "version": 3
   },
   "file_extension": ".py",
   "mimetype": "text/x-python",
   "name": "python",
   "nbconvert_exporter": "python",
   "pygments_lexer": "ipython3",
   "version": "3.9.6"
  },
  "orig_nbformat": 4
 },
 "nbformat": 4,
 "nbformat_minor": 2
}
